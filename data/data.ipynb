{
 "cells": [
  {
   "cell_type": "code",
   "execution_count": 2,
   "metadata": {},
   "outputs": [],
   "source": [
    "# Import libraries\n",
    "import pandas as pd\n",
    "import numpy as np\n",
    "import csv\n",
    "from sklearn.model_selection import train_test_split\n",
    "from sklearn.preprocessing import OneHotEncoder\n",
    "from sklearn.impute import SimpleImputer\n",
    "from sklearn.linear_model import LinearRegression\n",
    "#import matplotlib.pyplot as plt\n",
    "#import seaborn as sns"
   ]
  },
  {
   "cell_type": "code",
   "execution_count": 3,
   "metadata": {},
   "outputs": [],
   "source": [
    "# Read the csv file\n",
    "df = pd.read_csv(\"../data/cleaned_properties.csv\")\n",
    "\n",
    "df_house = df[(df[\"property_type\"] == \"HOUSE\") & (df['subproperty_type'] != 'APARTMENT_BLOCK')]"
   ]
  },
  {
   "cell_type": "code",
   "execution_count": 4,
   "metadata": {},
   "outputs": [],
   "source": [
    "# Name X and y\n",
    "X = df_house.drop(columns=['price', 'subproperty_type', 'property_type', 'region', 'locality', 'construction_year', 'cadastral_income', 'nbr_frontages', 'fl_floodzone'])\n",
    "y = df_house['price']\n",
    "\n",
    "# Split the data into training and test data\n",
    "X_train, X_test, y_train, y_test = train_test_split(X, y, random_state=42, test_size=0.2)"
   ]
  },
  {
   "cell_type": "code",
   "execution_count": 6,
   "metadata": {},
   "outputs": [
    {
     "name": "stdout",
     "output_type": "stream",
     "text": [
      "['province', 'zip_code', 'total_area_sqm', 'surface_land_sqm', 'nbr_bedrooms', 'equipped_kitchen', 'fl_furnished', 'fl_open_fire', 'fl_terrace', 'terrace_sqm', 'fl_garden', 'garden_sqm', 'fl_swimming_pool', 'state_building', 'primary_energy_consumption_sqm', 'epc', 'heating_type', 'fl_double_glazing']\n"
     ]
    }
   ],
   "source": [
    "print(X_train.columns.tolist())"
   ]
  },
  {
   "cell_type": "code",
   "execution_count": 16,
   "metadata": {},
   "outputs": [
    {
     "name": "stdout",
     "output_type": "stream",
     "text": [
      "The features of X_train are:\n",
      " province, zip_code, total_area_sqm, surface_land_sqm, nbr_bedrooms, equipped_kitchen, fl_furnished, fl_open_fire, fl_terrace, terrace_sqm, fl_garden, garden_sqm, fl_swimming_pool, state_building, primary_energy_consumption_sqm, epc, heating_type, fl_double_glazing.\n",
      "\n"
     ]
    }
   ],
   "source": [
    "print(f\"The features of X_train are:\\n {', '.join([str(feature)for feature in X_train.columns])}.\\n\")"
   ]
  },
  {
   "cell_type": "code",
   "execution_count": 17,
   "metadata": {},
   "outputs": [
    {
     "name": "stdout",
     "output_type": "stream",
     "text": [
      "Unique values in 'province' are : ['East Flanders' 'Antwerp' 'Flemish Brabant' 'West Flanders' 'Hainaut'\n",
      " 'Liège' 'Brussels' 'Luxembourg' 'Walloon Brabant' 'Namur' 'Limburg']\n",
      "Unique values in 'equipped_kitchen' are : [nan 'HYPER_EQUIPPED' 'INSTALLED' 'USA_UNINSTALLED' 'SEMI_EQUIPPED'\n",
      " 'USA_HYPER_EQUIPPED' 'NOT_INSTALLED' 'USA_INSTALLED' 'USA_SEMI_EQUIPPED']\n",
      "Unique values in 'state_building' are : [nan 'AS_NEW' 'GOOD' 'TO_RENOVATE' 'JUST_RENOVATED' 'TO_BE_DONE_UP'\n",
      " 'TO_RESTORE']\n",
      "Unique values in 'epc' are : ['C' 'A' nan 'D' 'E' 'B' 'G' 'F' 'A++' 'A+']\n",
      "Unique values in 'heating_type' are : [nan 'FUELOIL' 'GAS' 'PELLET' 'ELECTRIC' 'CARBON' 'WOOD' 'SOLAR']\n"
     ]
    }
   ],
   "source": [
    "categorical_cols = X.select_dtypes(include='object').columns.tolist()\n",
    "for column in categorical_cols:\n",
    "    unique_values = X[column].unique()\n",
    "    print(f\"Unique values in '{column}' are : {unique_values}\")"
   ]
  },
  {
   "cell_type": "code",
   "execution_count": 21,
   "metadata": {},
   "outputs": [
    {
     "name": "stdout",
     "output_type": "stream",
     "text": [
      "Unique values in 'zip_code' are : [9185 2275 1700 ... 5021 9572 6533]\n",
      "Unique values in 'fl_furnished' are : [0 1]\n",
      "Unique values in 'fl_open_fire' are : [0 1]\n",
      "Unique values in 'fl_terrace' are : [0 1]\n",
      "Unique values in 'fl_garden' are : [0 1]\n",
      "Unique values in 'fl_swimming_pool' are : [0 1]\n",
      "Unique values in 'fl_double_glazing' are : [1 0]\n"
     ]
    }
   ],
   "source": [
    "num_cols = X.select_dtypes(include='int').columns.tolist()\n",
    "for column in num_cols:\n",
    "    unique_values = X[column].unique()\n",
    "    print(f\"Unique values in '{column}' are : {unique_values}\")"
   ]
  },
  {
   "cell_type": "code",
   "execution_count": 18,
   "metadata": {},
   "outputs": [
    {
     "name": "stdout",
     "output_type": "stream",
     "text": [
      "Column 'total_area_sqm': Max value = 15348.0, Min value = 7.0\n",
      "Column 'surface_land_sqm': Max value = 950774.0, Min value = 0.0\n",
      "Column 'nbr_bedrooms': Max value = 200.0, Min value = 0.0\n",
      "Column 'terrace_sqm': Max value = 3466.0, Min value = 0.0\n",
      "Column 'garden_sqm': Max value = 150000.0, Min value = 0.0\n",
      "Column 'primary_energy_consumption_sqm': Max value = 20231122.0, Min value = -99.0\n"
     ]
    }
   ],
   "source": [
    "numeric_cols = X.select_dtypes(include='float').columns.tolist()\n",
    "for column in numeric_cols:\n",
    "    max_value = X[column].max()\n",
    "    min_value = X[column].min()\n",
    "    print(f\"Column '{column}': Max value = {max_value}, Min value = {min_value}\")"
   ]
  },
  {
   "cell_type": "code",
   "execution_count": 20,
   "metadata": {},
   "outputs": [
    {
     "name": "stdout",
     "output_type": "stream",
     "text": [
      "Column 'zip_code': Max value = 9992, Min value = 1000\n"
     ]
    }
   ],
   "source": [
    "max_value = X['zip_code'].max()\n",
    "min_value = X['zip_code'].min()\n",
    "print(f\"Column '{'zip_code'}': Max value = {max_value}, Min value = {min_value}\")"
   ]
  }
 ],
 "metadata": {
  "kernelspec": {
   "display_name": "Python 3",
   "language": "python",
   "name": "python3"
  },
  "language_info": {
   "codemirror_mode": {
    "name": "ipython",
    "version": 3
   },
   "file_extension": ".py",
   "mimetype": "text/x-python",
   "name": "python",
   "nbconvert_exporter": "python",
   "pygments_lexer": "ipython3",
   "version": "3.12.2"
  }
 },
 "nbformat": 4,
 "nbformat_minor": 2
}
